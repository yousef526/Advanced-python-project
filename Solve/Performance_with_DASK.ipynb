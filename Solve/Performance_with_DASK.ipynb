{
 "cells": [
  {
   "cell_type": "markdown",
   "metadata": {},
   "source": [
    "# Performance compare with DASK"
   ]
  },
  {
   "cell_type": "code",
   "execution_count": 53,
   "metadata": {},
   "outputs": [],
   "source": [
    "import pandas as pd\n",
    "import dask.dataframe as dd\n",
    "import numpy as np\n",
    "import time"
   ]
  },
  {
   "cell_type": "code",
   "execution_count": 139,
   "metadata": {},
   "outputs": [
    {
     "data": {
      "text/plain": [
       "0.11599969863891602"
      ]
     },
     "execution_count": 139,
     "metadata": {},
     "output_type": "execute_result"
    }
   ],
   "source": [
    "# reading the data using dask\n",
    "\n",
    "start = time.time()\n",
    "\n",
    "df = dd.read_csv(\"../globalterrorismdb_0718dist.csv\",encoding='latin-1')\n",
    "\n",
    "end_time = time.time()\n",
    "end_time - start"
   ]
  },
  {
   "cell_type": "code",
   "execution_count": 140,
   "metadata": {},
   "outputs": [
    {
     "name": "stderr",
     "output_type": "stream",
     "text": [
      "C:\\Users\\youse\\AppData\\Local\\Temp\\ipykernel_3164\\2745896754.py:5: DtypeWarning: Columns (4,6,31,33,61,62,63,76,79,90,92,94,96,114,115,121) have mixed types. Specify dtype option on import or set low_memory=False.\n",
      "  df = pd.read_csv(\"../globalterrorismdb_0718dist.csv\",encoding='latin-1')\n"
     ]
    },
    {
     "data": {
      "text/plain": [
       "2.6810009479522705"
      ]
     },
     "execution_count": 140,
     "metadata": {},
     "output_type": "execute_result"
    }
   ],
   "source": [
    "# reading the data using pandas\n",
    "\n",
    "start = time.time()\n",
    "\n",
    "df = pd.read_csv(\"../globalterrorismdb_0718dist.csv\",encoding='latin-1')\n",
    "\n",
    "end_time = time.time()\n",
    "end_time - start"
   ]
  },
  {
   "cell_type": "markdown",
   "metadata": {},
   "source": [
    "making group by region "
   ]
  },
  {
   "cell_type": "code",
   "execution_count": 141,
   "metadata": {},
   "outputs": [
    {
     "data": {
      "text/plain": [
       "4.576993703842163"
      ]
     },
     "execution_count": 141,
     "metadata": {},
     "output_type": "execute_result"
    }
   ],
   "source": [
    "# using pandas\n",
    "start = time.time()\n",
    "\n",
    "df2 = df[[\"country_txt\",\"weaptype1_txt\",\"target1\",\"region_txt\"]].groupby([\"region_txt\",]).sum()\n",
    "\n",
    "end_time = time.time()\n",
    "end_time - start"
   ]
  },
  {
   "cell_type": "code",
   "execution_count": 142,
   "metadata": {},
   "outputs": [
    {
     "data": {
      "text/plain": [
       "1.3510019779205322"
      ]
     },
     "execution_count": 142,
     "metadata": {},
     "output_type": "execute_result"
    }
   ],
   "source": [
    "# using dask\n",
    "\n",
    "start = time.time()\n",
    "\n",
    "df_dask = dd.from_pandas(df, npartitions=55)\n",
    "\n",
    "result = df_dask[[\"country_txt\",\"weaptype1_txt\",\"target1\",\"region_txt\"]]\\\n",
    "    .groupby([\"region_txt\"]).sum().compute()\n",
    "\n",
    "end_time = time.time()\n",
    "end_time - start"
   ]
  },
  {
   "cell_type": "code",
   "execution_count": null,
   "metadata": {},
   "outputs": [],
   "source": []
  },
  {
   "cell_type": "code",
   "execution_count": null,
   "metadata": {},
   "outputs": [],
   "source": []
  }
 ],
 "metadata": {
  "kernelspec": {
   "display_name": "Python 3",
   "language": "python",
   "name": "python3"
  },
  "language_info": {
   "codemirror_mode": {
    "name": "ipython",
    "version": 3
   },
   "file_extension": ".py",
   "mimetype": "text/x-python",
   "name": "python",
   "nbconvert_exporter": "python",
   "pygments_lexer": "ipython3",
   "version": "3.10.2"
  }
 },
 "nbformat": 4,
 "nbformat_minor": 2
}
